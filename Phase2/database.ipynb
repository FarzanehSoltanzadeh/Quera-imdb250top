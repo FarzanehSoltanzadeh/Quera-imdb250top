{
 "cells": [
  {
   "attachments": {},
   "cell_type": "markdown",
   "metadata": {},
   "source": [
    "*Farzaneh Soltanzadeh*"
   ]
  },
  {
   "cell_type": "code",
   "execution_count": 2,
   "metadata": {},
   "outputs": [],
   "source": [
    "from sqlalchemy import create_engine\n",
    "from sqlalchemy import URL\n",
    "from sqlalchemy import text\n",
    "from urllib.parse import quote_plus\n",
    "from sqlalchemy.types import Integer, VARCHAR\n",
    "import pandas as pd "
   ]
  },
  {
   "cell_type": "code",
   "execution_count": 3,
   "metadata": {},
   "outputs": [],
   "source": [
    "# !cd D:\\University\\Quera-BootCamp\\"
   ]
  },
  {
   "cell_type": "code",
   "execution_count": null,
   "metadata": {},
   "outputs": [],
   "source": [
    "# !jupytext --to py:percent -o db.py db.ipynb"
   ]
  },
  {
   "attachments": {},
   "cell_type": "markdown",
   "metadata": {},
   "source": [
    " Connection and Create DataBase"
   ]
  },
  {
   "cell_type": "code",
   "execution_count": 89,
   "metadata": {},
   "outputs": [],
   "source": [
    "url_object = URL.create(\n",
    "    \"mysql+mysqlconnector\",\n",
    "    username=\"root\",\n",
    "    password=\"farzansql\",\n",
    "    host=\"localhost\",\n",
    ")"
   ]
  },
  {
   "cell_type": "code",
   "execution_count": 90,
   "metadata": {},
   "outputs": [],
   "source": [
    "engine = create_engine(url_object)"
   ]
  },
  {
   "cell_type": "code",
   "execution_count": 91,
   "metadata": {},
   "outputs": [],
   "source": [
    "with engine.connect() as conn : \n",
    "    conn.execute(text('CREATE Schema imdb250;'))\n",
    "    # conn.execute(text('DROP schema imdb250;'))"
   ]
  },
  {
   "attachments": {},
   "cell_type": "markdown",
   "metadata": {},
   "source": [
    "Read Data from Json file"
   ]
  },
  {
   "cell_type": "code",
   "execution_count": 3,
   "metadata": {},
   "outputs": [
    {
     "data": {
      "text/html": [
       "<div>\n",
       "<style scoped>\n",
       "    .dataframe tbody tr th:only-of-type {\n",
       "        vertical-align: middle;\n",
       "    }\n",
       "\n",
       "    .dataframe tbody tr th {\n",
       "        vertical-align: top;\n",
       "    }\n",
       "\n",
       "    .dataframe thead th {\n",
       "        text-align: right;\n",
       "    }\n",
       "</style>\n",
       "<table border=\"1\" class=\"dataframe\">\n",
       "  <thead>\n",
       "    <tr style=\"text-align: right;\">\n",
       "      <th></th>\n",
       "      <th>id</th>\n",
       "      <th>title</th>\n",
       "      <th>year</th>\n",
       "      <th>parental_guide</th>\n",
       "      <th>runtime</th>\n",
       "      <th>genre</th>\n",
       "      <th>directore</th>\n",
       "      <th>writer</th>\n",
       "      <th>star</th>\n",
       "      <th>gross_us_canada</th>\n",
       "    </tr>\n",
       "  </thead>\n",
       "  <tbody>\n",
       "    <tr>\n",
       "      <th>0</th>\n",
       "      <td>0111161</td>\n",
       "      <td>The Shawshank Redemption</td>\n",
       "      <td>1994</td>\n",
       "      <td>R</td>\n",
       "      <td>142</td>\n",
       "      <td>[Drama]</td>\n",
       "      <td>[Frank Darabont]</td>\n",
       "      <td>[Stephen King, Frank Darabont]</td>\n",
       "      <td>[Tim Robbins, Morgan Freeman, Bob Gunton]</td>\n",
       "      <td>28767189.0</td>\n",
       "    </tr>\n",
       "    <tr>\n",
       "      <th>1</th>\n",
       "      <td>0068646</td>\n",
       "      <td>The Godfather</td>\n",
       "      <td>1972</td>\n",
       "      <td>R</td>\n",
       "      <td>175</td>\n",
       "      <td>[Crime, Drama]</td>\n",
       "      <td>[Francis Ford Coppola]</td>\n",
       "      <td>[Mario Puzo, Francis Ford Coppola]</td>\n",
       "      <td>[Marlon Brando, Al Pacino, James Caan]</td>\n",
       "      <td>136381073.0</td>\n",
       "    </tr>\n",
       "    <tr>\n",
       "      <th>2</th>\n",
       "      <td>0468569</td>\n",
       "      <td>The Dark Knight</td>\n",
       "      <td>2008</td>\n",
       "      <td>PG-13</td>\n",
       "      <td>152</td>\n",
       "      <td>[Action, Crime, Drama]</td>\n",
       "      <td>[Christopher Nolan]</td>\n",
       "      <td>[Jonathan Nolan, Christopher Nolan, David S. G...</td>\n",
       "      <td>[Christian Bale, Heath Ledger, Aaron Eckhart]</td>\n",
       "      <td>534987076.0</td>\n",
       "    </tr>\n",
       "    <tr>\n",
       "      <th>3</th>\n",
       "      <td>0071562</td>\n",
       "      <td>The Godfather Part II</td>\n",
       "      <td>1974</td>\n",
       "      <td>R</td>\n",
       "      <td>202</td>\n",
       "      <td>[Crime, Drama]</td>\n",
       "      <td>[Francis Ford Coppola]</td>\n",
       "      <td>[Francis Ford Coppola, Mario Puzo]</td>\n",
       "      <td>[Al Pacino, Robert De Niro, Robert Duvall]</td>\n",
       "      <td>47834595.0</td>\n",
       "    </tr>\n",
       "    <tr>\n",
       "      <th>4</th>\n",
       "      <td>0050083</td>\n",
       "      <td>12 Angry Men</td>\n",
       "      <td>1957</td>\n",
       "      <td>Approved</td>\n",
       "      <td>96</td>\n",
       "      <td>[Crime, Drama]</td>\n",
       "      <td>[Sidney Lumet]</td>\n",
       "      <td>[Reginald Rose]</td>\n",
       "      <td>[Henry Fonda, Lee J. Cobb, Martin Balsam]</td>\n",
       "      <td>NaN</td>\n",
       "    </tr>\n",
       "  </tbody>\n",
       "</table>\n",
       "</div>"
      ],
      "text/plain": [
       "        id                     title  year parental_guide  runtime   \n",
       "0  0111161  The Shawshank Redemption  1994              R      142  \\\n",
       "1  0068646             The Godfather  1972              R      175   \n",
       "2  0468569           The Dark Knight  2008          PG-13      152   \n",
       "3  0071562     The Godfather Part II  1974              R      202   \n",
       "4  0050083              12 Angry Men  1957       Approved       96   \n",
       "\n",
       "                    genre               directore   \n",
       "0                 [Drama]        [Frank Darabont]  \\\n",
       "1          [Crime, Drama]  [Francis Ford Coppola]   \n",
       "2  [Action, Crime, Drama]     [Christopher Nolan]   \n",
       "3          [Crime, Drama]  [Francis Ford Coppola]   \n",
       "4          [Crime, Drama]          [Sidney Lumet]   \n",
       "\n",
       "                                              writer   \n",
       "0                     [Stephen King, Frank Darabont]  \\\n",
       "1                 [Mario Puzo, Francis Ford Coppola]   \n",
       "2  [Jonathan Nolan, Christopher Nolan, David S. G...   \n",
       "3                 [Francis Ford Coppola, Mario Puzo]   \n",
       "4                                    [Reginald Rose]   \n",
       "\n",
       "                                            star  gross_us_canada  \n",
       "0      [Tim Robbins, Morgan Freeman, Bob Gunton]       28767189.0  \n",
       "1         [Marlon Brando, Al Pacino, James Caan]      136381073.0  \n",
       "2  [Christian Bale, Heath Ledger, Aaron Eckhart]      534987076.0  \n",
       "3     [Al Pacino, Robert De Niro, Robert Duvall]       47834595.0  \n",
       "4      [Henry Fonda, Lee J. Cobb, Martin Balsam]              NaN  "
      ]
     },
     "execution_count": 3,
     "metadata": {},
     "output_type": "execute_result"
    }
   ],
   "source": [
    "df_movies = pd.read_json('imdb_250_movies.json', dtype={'id': 'str'})\n",
    "df_movies.head()"
   ]
  },
  {
   "cell_type": "code",
   "execution_count": 4,
   "metadata": {},
   "outputs": [
    {
     "data": {
      "text/html": [
       "<div>\n",
       "<style scoped>\n",
       "    .dataframe tbody tr th:only-of-type {\n",
       "        vertical-align: middle;\n",
       "    }\n",
       "\n",
       "    .dataframe tbody tr th {\n",
       "        vertical-align: top;\n",
       "    }\n",
       "\n",
       "    .dataframe thead th {\n",
       "        text-align: right;\n",
       "    }\n",
       "</style>\n",
       "<table border=\"1\" class=\"dataframe\">\n",
       "  <thead>\n",
       "    <tr style=\"text-align: right;\">\n",
       "      <th></th>\n",
       "      <th>name</th>\n",
       "      <th>id</th>\n",
       "    </tr>\n",
       "  </thead>\n",
       "  <tbody>\n",
       "    <tr>\n",
       "      <th>0</th>\n",
       "      <td>Frank Darabont</td>\n",
       "      <td>0001104</td>\n",
       "    </tr>\n",
       "    <tr>\n",
       "      <th>1</th>\n",
       "      <td>Stephen King</td>\n",
       "      <td>0000175</td>\n",
       "    </tr>\n",
       "    <tr>\n",
       "      <th>2</th>\n",
       "      <td>Tim Robbins</td>\n",
       "      <td>0000209</td>\n",
       "    </tr>\n",
       "    <tr>\n",
       "      <th>3</th>\n",
       "      <td>Morgan Freeman</td>\n",
       "      <td>0000151</td>\n",
       "    </tr>\n",
       "    <tr>\n",
       "      <th>4</th>\n",
       "      <td>Bob Gunton</td>\n",
       "      <td>0348409</td>\n",
       "    </tr>\n",
       "  </tbody>\n",
       "</table>\n",
       "</div>"
      ],
      "text/plain": [
       "             name       id\n",
       "0  Frank Darabont  0001104\n",
       "1    Stephen King  0000175\n",
       "2     Tim Robbins  0000209\n",
       "3  Morgan Freeman  0000151\n",
       "4      Bob Gunton  0348409"
      ]
     },
     "execution_count": 4,
     "metadata": {},
     "output_type": "execute_result"
    }
   ],
   "source": [
    "df_persons = pd.read_json('imdb_persons_id.json', dtype={'id': 'str'}).drop_duplicates().reset_index(drop=True)\n",
    "df_persons.head()"
   ]
  },
  {
   "attachments": {},
   "cell_type": "markdown",
   "metadata": {},
   "source": [
    "CREATE TABLE movie"
   ]
  },
  {
   "cell_type": "code",
   "execution_count": 94,
   "metadata": {},
   "outputs": [
    {
     "data": {
      "text/html": [
       "<div>\n",
       "<style scoped>\n",
       "    .dataframe tbody tr th:only-of-type {\n",
       "        vertical-align: middle;\n",
       "    }\n",
       "\n",
       "    .dataframe tbody tr th {\n",
       "        vertical-align: top;\n",
       "    }\n",
       "\n",
       "    .dataframe thead th {\n",
       "        text-align: right;\n",
       "    }\n",
       "</style>\n",
       "<table border=\"1\" class=\"dataframe\">\n",
       "  <thead>\n",
       "    <tr style=\"text-align: right;\">\n",
       "      <th></th>\n",
       "      <th>title</th>\n",
       "      <th>year</th>\n",
       "      <th>runtime</th>\n",
       "      <th>parental_guide</th>\n",
       "      <th>gross_us_canada</th>\n",
       "    </tr>\n",
       "    <tr>\n",
       "      <th>id</th>\n",
       "      <th></th>\n",
       "      <th></th>\n",
       "      <th></th>\n",
       "      <th></th>\n",
       "      <th></th>\n",
       "    </tr>\n",
       "  </thead>\n",
       "  <tbody>\n",
       "    <tr>\n",
       "      <th>0111161</th>\n",
       "      <td>The Shawshank Redemption</td>\n",
       "      <td>1994</td>\n",
       "      <td>142</td>\n",
       "      <td>R</td>\n",
       "      <td>28767189.0</td>\n",
       "    </tr>\n",
       "    <tr>\n",
       "      <th>0068646</th>\n",
       "      <td>The Godfather</td>\n",
       "      <td>1972</td>\n",
       "      <td>175</td>\n",
       "      <td>R</td>\n",
       "      <td>136381073.0</td>\n",
       "    </tr>\n",
       "    <tr>\n",
       "      <th>0468569</th>\n",
       "      <td>The Dark Knight</td>\n",
       "      <td>2008</td>\n",
       "      <td>152</td>\n",
       "      <td>PG-13</td>\n",
       "      <td>534987076.0</td>\n",
       "    </tr>\n",
       "    <tr>\n",
       "      <th>0071562</th>\n",
       "      <td>The Godfather Part II</td>\n",
       "      <td>1974</td>\n",
       "      <td>202</td>\n",
       "      <td>R</td>\n",
       "      <td>47834595.0</td>\n",
       "    </tr>\n",
       "    <tr>\n",
       "      <th>0050083</th>\n",
       "      <td>12 Angry Men</td>\n",
       "      <td>1957</td>\n",
       "      <td>96</td>\n",
       "      <td>Approved</td>\n",
       "      <td>NaN</td>\n",
       "    </tr>\n",
       "  </tbody>\n",
       "</table>\n",
       "</div>"
      ],
      "text/plain": [
       "                            title  year  runtime parental_guide   \n",
       "id                                                                \n",
       "0111161  The Shawshank Redemption  1994      142              R  \\\n",
       "0068646             The Godfather  1972      175              R   \n",
       "0468569           The Dark Knight  2008      152          PG-13   \n",
       "0071562     The Godfather Part II  1974      202              R   \n",
       "0050083              12 Angry Men  1957       96       Approved   \n",
       "\n",
       "         gross_us_canada  \n",
       "id                        \n",
       "0111161       28767189.0  \n",
       "0068646      136381073.0  \n",
       "0468569      534987076.0  \n",
       "0071562       47834595.0  \n",
       "0050083              NaN  "
      ]
     },
     "execution_count": 94,
     "metadata": {},
     "output_type": "execute_result"
    }
   ],
   "source": [
    "df_movie_table = df_movies.loc[:, ['id', 'title', 'year', 'runtime', 'parental_guide', 'gross_us_canada']].set_index('id')\n",
    "df_movie_table.head()"
   ]
  },
  {
   "cell_type": "code",
   "execution_count": 95,
   "metadata": {},
   "outputs": [],
   "source": [
    "with engine.connect() as conn:\n",
    "    df_movie_table.to_sql(name='movie', con=conn, schema='imdb250', if_exists='replace', chunksize=50, method='multi',\n",
    "                          index_label= 'id', dtype={'id': VARCHAR(8), 'title': VARCHAR(128), 'year': Integer(), 'runtime': Integer(), 'parental_guide': VARCHAR(8), 'gross_us_canada': Integer()})\n"
   ]
  },
  {
   "attachments": {},
   "cell_type": "markdown",
   "metadata": {},
   "source": [
    "CREATE TABLE person"
   ]
  },
  {
   "cell_type": "code",
   "execution_count": 96,
   "metadata": {},
   "outputs": [
    {
     "data": {
      "text/html": [
       "<div>\n",
       "<style scoped>\n",
       "    .dataframe tbody tr th:only-of-type {\n",
       "        vertical-align: middle;\n",
       "    }\n",
       "\n",
       "    .dataframe tbody tr th {\n",
       "        vertical-align: top;\n",
       "    }\n",
       "\n",
       "    .dataframe thead th {\n",
       "        text-align: right;\n",
       "    }\n",
       "</style>\n",
       "<table border=\"1\" class=\"dataframe\">\n",
       "  <thead>\n",
       "    <tr style=\"text-align: right;\">\n",
       "      <th></th>\n",
       "      <th>name</th>\n",
       "    </tr>\n",
       "    <tr>\n",
       "      <th>id</th>\n",
       "      <th></th>\n",
       "    </tr>\n",
       "  </thead>\n",
       "  <tbody>\n",
       "    <tr>\n",
       "      <th>0001104</th>\n",
       "      <td>Frank Darabont</td>\n",
       "    </tr>\n",
       "    <tr>\n",
       "      <th>0000175</th>\n",
       "      <td>Stephen King</td>\n",
       "    </tr>\n",
       "    <tr>\n",
       "      <th>0000209</th>\n",
       "      <td>Tim Robbins</td>\n",
       "    </tr>\n",
       "    <tr>\n",
       "      <th>0000151</th>\n",
       "      <td>Morgan Freeman</td>\n",
       "    </tr>\n",
       "    <tr>\n",
       "      <th>0348409</th>\n",
       "      <td>Bob Gunton</td>\n",
       "    </tr>\n",
       "  </tbody>\n",
       "</table>\n",
       "</div>"
      ],
      "text/plain": [
       "                   name\n",
       "id                     \n",
       "0001104  Frank Darabont\n",
       "0000175    Stephen King\n",
       "0000209     Tim Robbins\n",
       "0000151  Morgan Freeman\n",
       "0348409      Bob Gunton"
      ]
     },
     "execution_count": 96,
     "metadata": {},
     "output_type": "execute_result"
    }
   ],
   "source": [
    "df_peron_table = df_persons.loc[:, ['id', 'name']].set_index('id')\n",
    "df_peron_table.head()"
   ]
  },
  {
   "cell_type": "code",
   "execution_count": 97,
   "metadata": {},
   "outputs": [],
   "source": [
    "with engine.connect() as conn:\n",
    "    df_peron_table.to_sql(name='person', con=conn, schema='imdb250', if_exists='replace', chunksize=50, method='multi',\n",
    "                          index_label= 'id', dtype={'id': VARCHAR(8), 'name': VARCHAR(32)})\n"
   ]
  },
  {
   "attachments": {},
   "cell_type": "markdown",
   "metadata": {},
   "source": [
    "CREATE TABLE cast"
   ]
  },
  {
   "cell_type": "code",
   "execution_count": 98,
   "metadata": {},
   "outputs": [],
   "source": [
    "qu_cast = text(\"\"\"\n",
    "CREATE TABLE cast (\n",
    "id INT NOT NULL AUTO_INCREMENT,\n",
    "movie_id VARCHAR(8) NOT NULL,\n",
    "person_id VARCHAR(8) NOT NULL,\n",
    "PRIMARY KEY (id),\n",
    "FOREIGN KEY (movie_id) REFERENCES movie(id),\n",
    "FOREIGN KEY (person_id) REFERENCES person(id)\n",
    ");\"\"\")"
   ]
  },
  {
   "cell_type": "code",
   "execution_count": 99,
   "metadata": {},
   "outputs": [],
   "source": [
    "with engine.connect() as conn:\n",
    "    conn.execute(text('USE imdb250;'))\n",
    "    conn.execute(qu_cast)"
   ]
  },
  {
   "cell_type": "code",
   "execution_count": 100,
   "metadata": {},
   "outputs": [
    {
     "data": {
      "text/html": [
       "<div>\n",
       "<style scoped>\n",
       "    .dataframe tbody tr th:only-of-type {\n",
       "        vertical-align: middle;\n",
       "    }\n",
       "\n",
       "    .dataframe tbody tr th {\n",
       "        vertical-align: top;\n",
       "    }\n",
       "\n",
       "    .dataframe thead th {\n",
       "        text-align: right;\n",
       "    }\n",
       "</style>\n",
       "<table border=\"1\" class=\"dataframe\">\n",
       "  <thead>\n",
       "    <tr style=\"text-align: right;\">\n",
       "      <th></th>\n",
       "      <th>person_id</th>\n",
       "    </tr>\n",
       "    <tr>\n",
       "      <th>movie_id</th>\n",
       "      <th></th>\n",
       "    </tr>\n",
       "  </thead>\n",
       "  <tbody>\n",
       "    <tr>\n",
       "      <th>0111161</th>\n",
       "      <td>0000209</td>\n",
       "    </tr>\n",
       "    <tr>\n",
       "      <th>0111161</th>\n",
       "      <td>0000151</td>\n",
       "    </tr>\n",
       "    <tr>\n",
       "      <th>0111161</th>\n",
       "      <td>0348409</td>\n",
       "    </tr>\n",
       "    <tr>\n",
       "      <th>0068646</th>\n",
       "      <td>0000008</td>\n",
       "    </tr>\n",
       "    <tr>\n",
       "      <th>0068646</th>\n",
       "      <td>0000199</td>\n",
       "    </tr>\n",
       "  </tbody>\n",
       "</table>\n",
       "</div>"
      ],
      "text/plain": [
       "         person_id\n",
       "movie_id          \n",
       "0111161    0000209\n",
       "0111161    0000151\n",
       "0111161    0348409\n",
       "0068646    0000008\n",
       "0068646    0000199"
      ]
     },
     "execution_count": 100,
     "metadata": {},
     "output_type": "execute_result"
    }
   ],
   "source": [
    "list_cast_table = []\n",
    "\n",
    "for index, row in df_movies.loc[:, ['id', 'star']].iterrows():\n",
    "    for name in row['star']:\n",
    "        list_cast_table.append({'movie_id': row['id'], 'person_id': df_persons.loc[df_persons['name'] == name, 'id'].tolist()[0]})\n",
    "        \n",
    "df_cast_table = pd.DataFrame(list_cast_table).set_index('movie_id')\n",
    "df_cast_table.head()"
   ]
  },
  {
   "cell_type": "code",
   "execution_count": 101,
   "metadata": {},
   "outputs": [],
   "source": [
    "with engine.connect() as conn:\n",
    "    df_cast_table.to_sql(name='cast', con=conn, schema='imdb250', if_exists='append', chunksize=50, method='multi',\n",
    "                          index=True, dtype={'movie_id': VARCHAR(8), 'person_id': VARCHAR(8)})"
   ]
  },
  {
   "attachments": {},
   "cell_type": "markdown",
   "metadata": {},
   "source": [
    "CREATE TABLE crew"
   ]
  },
  {
   "cell_type": "code",
   "execution_count": 102,
   "metadata": {},
   "outputs": [],
   "source": [
    "qu_crew = text(\"\"\"\n",
    "CREATE TABLE crew (\n",
    "id INT NOT NULL AUTO_INCREMENT,\n",
    "movie_id VARCHAR(8) NOT NULL,\n",
    "person_id VARCHAR(8) NOT NULL,\n",
    "role VARCHAR(8),\n",
    "PRIMARY KEY (id),\n",
    "FOREIGN KEY (movie_id) REFERENCES movie(id),\n",
    "FOREIGN KEY (person_id) REFERENCES person(id)\n",
    ");\"\"\")"
   ]
  },
  {
   "cell_type": "code",
   "execution_count": 103,
   "metadata": {},
   "outputs": [],
   "source": [
    "with engine.connect() as conn:\n",
    "    conn.execute(text('USE imdb250;'))\n",
    "    conn.execute(qu_crew)"
   ]
  },
  {
   "cell_type": "code",
   "execution_count": 104,
   "metadata": {},
   "outputs": [
    {
     "data": {
      "text/html": [
       "<div>\n",
       "<style scoped>\n",
       "    .dataframe tbody tr th:only-of-type {\n",
       "        vertical-align: middle;\n",
       "    }\n",
       "\n",
       "    .dataframe tbody tr th {\n",
       "        vertical-align: top;\n",
       "    }\n",
       "\n",
       "    .dataframe thead th {\n",
       "        text-align: right;\n",
       "    }\n",
       "</style>\n",
       "<table border=\"1\" class=\"dataframe\">\n",
       "  <thead>\n",
       "    <tr style=\"text-align: right;\">\n",
       "      <th></th>\n",
       "      <th>person_id</th>\n",
       "      <th>role</th>\n",
       "    </tr>\n",
       "    <tr>\n",
       "      <th>movie_id</th>\n",
       "      <th></th>\n",
       "      <th></th>\n",
       "    </tr>\n",
       "  </thead>\n",
       "  <tbody>\n",
       "    <tr>\n",
       "      <th>0111161</th>\n",
       "      <td>0001104</td>\n",
       "      <td>Director</td>\n",
       "    </tr>\n",
       "    <tr>\n",
       "      <th>0111161</th>\n",
       "      <td>0000175</td>\n",
       "      <td>Writer</td>\n",
       "    </tr>\n",
       "    <tr>\n",
       "      <th>0111161</th>\n",
       "      <td>0001104</td>\n",
       "      <td>Writer</td>\n",
       "    </tr>\n",
       "    <tr>\n",
       "      <th>0068646</th>\n",
       "      <td>0000338</td>\n",
       "      <td>Director</td>\n",
       "    </tr>\n",
       "    <tr>\n",
       "      <th>0068646</th>\n",
       "      <td>0701374</td>\n",
       "      <td>Writer</td>\n",
       "    </tr>\n",
       "  </tbody>\n",
       "</table>\n",
       "</div>"
      ],
      "text/plain": [
       "         person_id      role\n",
       "movie_id                    \n",
       "0111161    0001104  Director\n",
       "0111161    0000175    Writer\n",
       "0111161    0001104    Writer\n",
       "0068646    0000338  Director\n",
       "0068646    0701374    Writer"
      ]
     },
     "execution_count": 104,
     "metadata": {},
     "output_type": "execute_result"
    }
   ],
   "source": [
    "list_crew_table = []\n",
    "\n",
    "for index, row in df_movies.loc[:, ['id', 'directore', 'writer']].iterrows():\n",
    "    for name in row['directore']:\n",
    "        list_crew_table.append({'movie_id': row['id'], 'person_id': df_persons.loc[df_persons['name'] == name, 'id'].tolist()[0], 'role': 'Director'})\n",
    "    for name in row['writer']:\n",
    "        list_crew_table.append({'movie_id': row['id'], 'person_id': df_persons.loc[df_persons['name'] == name, 'id'].tolist()[0], 'role': 'Writer'})\n",
    "     \n",
    "df_crew_table = pd.DataFrame(list_crew_table).set_index('movie_id')\n",
    "df_crew_table.head()"
   ]
  },
  {
   "cell_type": "code",
   "execution_count": 105,
   "metadata": {},
   "outputs": [],
   "source": [
    "with engine.connect() as conn:\n",
    "    df_crew_table.to_sql(name='crew', con=conn, schema='imdb250', if_exists='append', chunksize=50, method='multi',\n",
    "                          index=True, dtype={'movie_id': VARCHAR(8), 'person_id': VARCHAR(8), 'role': VARCHAR(8)})"
   ]
  },
  {
   "attachments": {},
   "cell_type": "markdown",
   "metadata": {},
   "source": [
    "CREATE TABLE genre"
   ]
  },
  {
   "cell_type": "code",
   "execution_count": 106,
   "metadata": {},
   "outputs": [],
   "source": [
    "qu_genre = text(\"\"\"\n",
    "CREATE TABLE genre (\n",
    "id INT NOT NULL AUTO_INCREMENT,\n",
    "movie_id VARCHAR(8),\n",
    "genre VARCHAR(16),\n",
    "PRIMARY KEY (id),\n",
    "FOREIGN KEY (movie_id) REFERENCES movie(id)\n",
    ");\"\"\")"
   ]
  },
  {
   "cell_type": "code",
   "execution_count": 107,
   "metadata": {},
   "outputs": [],
   "source": [
    "with engine.connect() as conn:\n",
    "    conn.execute(text('USE imdb250;'))\n",
    "    conn.execute(qu_genre)"
   ]
  },
  {
   "cell_type": "code",
   "execution_count": 108,
   "metadata": {},
   "outputs": [
    {
     "data": {
      "text/html": [
       "<div>\n",
       "<style scoped>\n",
       "    .dataframe tbody tr th:only-of-type {\n",
       "        vertical-align: middle;\n",
       "    }\n",
       "\n",
       "    .dataframe tbody tr th {\n",
       "        vertical-align: top;\n",
       "    }\n",
       "\n",
       "    .dataframe thead th {\n",
       "        text-align: right;\n",
       "    }\n",
       "</style>\n",
       "<table border=\"1\" class=\"dataframe\">\n",
       "  <thead>\n",
       "    <tr style=\"text-align: right;\">\n",
       "      <th></th>\n",
       "      <th>genre</th>\n",
       "    </tr>\n",
       "    <tr>\n",
       "      <th>movie_id</th>\n",
       "      <th></th>\n",
       "    </tr>\n",
       "  </thead>\n",
       "  <tbody>\n",
       "    <tr>\n",
       "      <th>0111161</th>\n",
       "      <td>Drama</td>\n",
       "    </tr>\n",
       "    <tr>\n",
       "      <th>0068646</th>\n",
       "      <td>Crime</td>\n",
       "    </tr>\n",
       "    <tr>\n",
       "      <th>0068646</th>\n",
       "      <td>Drama</td>\n",
       "    </tr>\n",
       "    <tr>\n",
       "      <th>0468569</th>\n",
       "      <td>Action</td>\n",
       "    </tr>\n",
       "    <tr>\n",
       "      <th>0468569</th>\n",
       "      <td>Crime</td>\n",
       "    </tr>\n",
       "  </tbody>\n",
       "</table>\n",
       "</div>"
      ],
      "text/plain": [
       "           genre\n",
       "movie_id        \n",
       "0111161    Drama\n",
       "0068646    Crime\n",
       "0068646    Drama\n",
       "0468569   Action\n",
       "0468569    Crime"
      ]
     },
     "execution_count": 108,
     "metadata": {},
     "output_type": "execute_result"
    }
   ],
   "source": [
    "list_genre_table = []\n",
    "\n",
    "for index, row in df_movies.loc[:, ['id', 'genre']].iterrows():\n",
    "    for genre in row['genre']:\n",
    "        list_genre_table.append({'movie_id': row['id'], 'genre': genre})\n",
    "   \n",
    "df_genre_table = pd.DataFrame(list_genre_table).set_index('movie_id')\n",
    "df_genre_table.head()"
   ]
  },
  {
   "cell_type": "code",
   "execution_count": 109,
   "metadata": {},
   "outputs": [],
   "source": [
    "with engine.connect() as conn:\n",
    "    df_genre_table.to_sql(name='genre', con=conn, schema='imdb250', if_exists='append', chunksize=50, method='multi',\n",
    "                          index=True, dtype={'movie_id': VARCHAR(8), 'genre': VARCHAR(16)})"
   ]
  }
 ],
 "metadata": {
  "kernelspec": {
   "display_name": "Python 3",
   "language": "python",
   "name": "python3"
  },
  "language_info": {
   "codemirror_mode": {
    "name": "ipython",
    "version": 3
   },
   "file_extension": ".py",
   "mimetype": "text/x-python",
   "name": "python",
   "nbconvert_exporter": "python",
   "pygments_lexer": "ipython3",
   "version": "3.11.3"
  },
  "orig_nbformat": 4
 },
 "nbformat": 4,
 "nbformat_minor": 2
}
